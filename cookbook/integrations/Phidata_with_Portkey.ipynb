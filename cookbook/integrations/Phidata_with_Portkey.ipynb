{
  "nbformat": 4,
  "nbformat_minor": 0,
  "metadata": {
    "colab": {
      "provenance": []
    },
    "kernelspec": {
      "name": "python3",
      "display_name": "Python 3"
    },
    "language_info": {
      "name": "python"
    },
    "widgets": {
      "application/vnd.jupyter.widget-state+json": {
        "66c57421cf8e4ce992bb8466757de59a": {
          "model_module": "@jupyter-widgets/output",
          "model_name": "OutputModel",
          "model_module_version": "1.0.0",
          "state": {
            "_dom_classes": [],
            "_model_module": "@jupyter-widgets/output",
            "_model_module_version": "1.0.0",
            "_model_name": "OutputModel",
            "_view_count": null,
            "_view_module": "@jupyter-widgets/output",
            "_view_module_version": "1.0.0",
            "_view_name": "OutputView",
            "layout": "IPY_MODEL_4322f35d28c64bd2a99a30065b778496",
            "msg_id": "",
            "outputs": [
              {
                "output_type": "display_data",
                "data": {
                  "text/plain": "\u001b[34m╭──────────┬──────────────────────────────────────────────────────────────────────────────────────────────────────╮\u001b[0m\n\u001b[34m│\u001b[0m\u001b[1m \u001b[0m\u001b[1mMessage \u001b[0m\u001b[1m \u001b[0m\u001b[34m│\u001b[0m\u001b[1m \u001b[0m\u001b[1mwhat is portkey Ai                                                                                  \u001b[0m\u001b[1m \u001b[0m\u001b[34m│\u001b[0m\n\u001b[34m├──────────┼──────────────────────────────────────────────────────────────────────────────────────────────────────┤\u001b[0m\n\u001b[34m│\u001b[0m Response \u001b[34m│\u001b[0m                                                                                                      \u001b[34m│\u001b[0m\n\u001b[34m│\u001b[0m (7.6s)   \u001b[34m│\u001b[0m  - Running: duckduckgo_search(query=Portkey AI, max_results=5)                                       \u001b[34m│\u001b[0m\n\u001b[34m│\u001b[0m          \u001b[34m│\u001b[0m                                                                                                      \u001b[34m│\u001b[0m\n\u001b[34m│\u001b[0m          \u001b[34m│\u001b[0m Portkey AI is a platform designed to manage and optimize Gen AI applications. Here are some key      \u001b[34m│\u001b[0m\n\u001b[34m│\u001b[0m          \u001b[34m│\u001b[0m aspects of Portkey AI:                                                                               \u001b[34m│\u001b[0m\n\u001b[34m│\u001b[0m          \u001b[34m│\u001b[0m                                                                                                      \u001b[34m│\u001b[0m\n\u001b[34m│\u001b[0m          \u001b[34m│\u001b[0m 1. **Control Panel for AI Apps**:                                                                    \u001b[34m│\u001b[0m\n\u001b[34m│\u001b[0m          \u001b[34m│\u001b[0m    - Portkey AI allows users to evaluate outputs with AI and human feedback.                         \u001b[34m│\u001b[0m\n\u001b[34m│\u001b[0m          \u001b[34m│\u001b[0m    - Users can collect and track feedback from others, set up tests to automatically evaluate        \u001b[34m│\u001b[0m\n\u001b[34m│\u001b[0m          \u001b[34m│\u001b[0m outputs, and identify issues in real-time.                                                           \u001b[34m│\u001b[0m\n\u001b[34m│\u001b[0m          \u001b[34m│\u001b[0m    - It is described as a simple tool for managing prompts and gaining insights into AI model        \u001b[34m│\u001b[0m\n\u001b[34m│\u001b[0m          \u001b[34m│\u001b[0m performance.                                                                                         \u001b[34m│\u001b[0m\n\u001b[34m│\u001b[0m          \u001b[34m│\u001b[0m                                                                                                      \u001b[34m│\u001b[0m\n\u001b[34m│\u001b[0m          \u001b[34m│\u001b[0m 2. **Monitoring and Improvement**:                                                                   \u001b[34m│\u001b[0m\n\u001b[34m│\u001b[0m          \u001b[34m│\u001b[0m    - Portkey integrates easily into existing setups and begins monitoring all LLM (Large Language    \u001b[34m│\u001b[0m\n\u001b[34m│\u001b[0m          \u001b[34m│\u001b[0m Model) requests almost immediately.                                                                  \u001b[34m│\u001b[0m\n\u001b[34m│\u001b[0m          \u001b[34m│\u001b[0m    - It helps improve the cost, performance, and accuracy of AI applications by making them          \u001b[34m│\u001b[0m\n\u001b[34m│\u001b[0m          \u001b[34m│\u001b[0m resilient, secure, and more accurate.                                                                \u001b[34m│\u001b[0m\n\u001b[34m│\u001b[0m          \u001b[34m│\u001b[0m                                                                                                      \u001b[34m│\u001b[0m\n\u001b[34m│\u001b[0m          \u001b[34m│\u001b[0m 3. **Additional Features**:                                                                          \u001b[34m│\u001b[0m\n\u001b[34m│\u001b[0m          \u001b[34m│\u001b[0m    - It provides secure key management for role-based access control and tracking.                   \u001b[34m│\u001b[0m\n\u001b[34m│\u001b[0m          \u001b[34m│\u001b[0m    - It offers semantic caching to serve repeat queries faster and save costs.                       \u001b[34m│\u001b[0m\n\u001b[34m│\u001b[0m          \u001b[34m│\u001b[0m                                                                                                      \u001b[34m│\u001b[0m\n\u001b[34m│\u001b[0m          \u001b[34m│\u001b[0m 4. **Usage and Applications**:                                                                       \u001b[34m│\u001b[0m\n\u001b[34m│\u001b[0m          \u001b[34m│\u001b[0m    - Portkey AI is trusted by developers building production-grade AI solutions in various fields    \u001b[34m│\u001b[0m\n\u001b[34m│\u001b[0m          \u001b[34m│\u001b[0m such as HR, code copilot, content generation, and more.                                              \u001b[34m│\u001b[0m\n\u001b[34m│\u001b[0m          \u001b[34m│\u001b[0m                                                                                                      \u001b[34m│\u001b[0m\n\u001b[34m│\u001b[0m          \u001b[34m│\u001b[0m 5. **Plans and Pricing**:                                                                            \u001b[34m│\u001b[0m\n\u001b[34m│\u001b[0m          \u001b[34m│\u001b[0m    - The platform offers simple pricing for monitoring, management, and compliance. There is a free  \u001b[34m│\u001b[0m\n\u001b[34m│\u001b[0m          \u001b[34m│\u001b[0m tier that tracks up to 10,000 requests and options to sign up for a developer license for more       \u001b[34m│\u001b[0m\n\u001b[34m│\u001b[0m          \u001b[34m│\u001b[0m extensive usage.                                                                                     \u001b[34m│\u001b[0m\n\u001b[34m│\u001b[0m          \u001b[34m│\u001b[0m                                                                                                      \u001b[34m│\u001b[0m\n\u001b[34m│\u001b[0m          \u001b[34m│\u001b[0m For more detailed information, you can visit their (https://portkey.ai/) or their (https             \u001b[34m│\u001b[0m\n\u001b[34m╰──────────┴──────────────────────────────────────────────────────────────────────────────────────────────────────╯\u001b[0m\n",
                  "text/html": "<pre style=\"white-space:pre;overflow-x:auto;line-height:normal;font-family:Menlo,'DejaVu Sans Mono',consolas,'Courier New',monospace\"><span style=\"color: #000080; text-decoration-color: #000080\">╭──────────┬──────────────────────────────────────────────────────────────────────────────────────────────────────╮</span>\n<span style=\"color: #000080; text-decoration-color: #000080\">│</span><span style=\"font-weight: bold\"> Message  </span><span style=\"color: #000080; text-decoration-color: #000080\">│</span><span style=\"font-weight: bold\"> what is portkey Ai                                                                                   </span><span style=\"color: #000080; text-decoration-color: #000080\">│</span>\n<span style=\"color: #000080; text-decoration-color: #000080\">├──────────┼──────────────────────────────────────────────────────────────────────────────────────────────────────┤</span>\n<span style=\"color: #000080; text-decoration-color: #000080\">│</span> Response <span style=\"color: #000080; text-decoration-color: #000080\">│</span>                                                                                                      <span style=\"color: #000080; text-decoration-color: #000080\">│</span>\n<span style=\"color: #000080; text-decoration-color: #000080\">│</span> (7.6s)   <span style=\"color: #000080; text-decoration-color: #000080\">│</span>  - Running: duckduckgo_search(query=Portkey AI, max_results=5)                                       <span style=\"color: #000080; text-decoration-color: #000080\">│</span>\n<span style=\"color: #000080; text-decoration-color: #000080\">│</span>          <span style=\"color: #000080; text-decoration-color: #000080\">│</span>                                                                                                      <span style=\"color: #000080; text-decoration-color: #000080\">│</span>\n<span style=\"color: #000080; text-decoration-color: #000080\">│</span>          <span style=\"color: #000080; text-decoration-color: #000080\">│</span> Portkey AI is a platform designed to manage and optimize Gen AI applications. Here are some key      <span style=\"color: #000080; text-decoration-color: #000080\">│</span>\n<span style=\"color: #000080; text-decoration-color: #000080\">│</span>          <span style=\"color: #000080; text-decoration-color: #000080\">│</span> aspects of Portkey AI:                                                                               <span style=\"color: #000080; text-decoration-color: #000080\">│</span>\n<span style=\"color: #000080; text-decoration-color: #000080\">│</span>          <span style=\"color: #000080; text-decoration-color: #000080\">│</span>                                                                                                      <span style=\"color: #000080; text-decoration-color: #000080\">│</span>\n<span style=\"color: #000080; text-decoration-color: #000080\">│</span>          <span style=\"color: #000080; text-decoration-color: #000080\">│</span> 1. **Control Panel for AI Apps**:                                                                    <span style=\"color: #000080; text-decoration-color: #000080\">│</span>\n<span style=\"color: #000080; text-decoration-color: #000080\">│</span>          <span style=\"color: #000080; text-decoration-color: #000080\">│</span>    - Portkey AI allows users to evaluate outputs with AI and human feedback.                         <span style=\"color: #000080; text-decoration-color: #000080\">│</span>\n<span style=\"color: #000080; text-decoration-color: #000080\">│</span>          <span style=\"color: #000080; text-decoration-color: #000080\">│</span>    - Users can collect and track feedback from others, set up tests to automatically evaluate        <span style=\"color: #000080; text-decoration-color: #000080\">│</span>\n<span style=\"color: #000080; text-decoration-color: #000080\">│</span>          <span style=\"color: #000080; text-decoration-color: #000080\">│</span> outputs, and identify issues in real-time.                                                           <span style=\"color: #000080; text-decoration-color: #000080\">│</span>\n<span style=\"color: #000080; text-decoration-color: #000080\">│</span>          <span style=\"color: #000080; text-decoration-color: #000080\">│</span>    - It is described as a simple tool for managing prompts and gaining insights into AI model        <span style=\"color: #000080; text-decoration-color: #000080\">│</span>\n<span style=\"color: #000080; text-decoration-color: #000080\">│</span>          <span style=\"color: #000080; text-decoration-color: #000080\">│</span> performance.                                                                                         <span style=\"color: #000080; text-decoration-color: #000080\">│</span>\n<span style=\"color: #000080; text-decoration-color: #000080\">│</span>          <span style=\"color: #000080; text-decoration-color: #000080\">│</span>                                                                                                      <span style=\"color: #000080; text-decoration-color: #000080\">│</span>\n<span style=\"color: #000080; text-decoration-color: #000080\">│</span>          <span style=\"color: #000080; text-decoration-color: #000080\">│</span> 2. **Monitoring and Improvement**:                                                                   <span style=\"color: #000080; text-decoration-color: #000080\">│</span>\n<span style=\"color: #000080; text-decoration-color: #000080\">│</span>          <span style=\"color: #000080; text-decoration-color: #000080\">│</span>    - Portkey integrates easily into existing setups and begins monitoring all LLM (Large Language    <span style=\"color: #000080; text-decoration-color: #000080\">│</span>\n<span style=\"color: #000080; text-decoration-color: #000080\">│</span>          <span style=\"color: #000080; text-decoration-color: #000080\">│</span> Model) requests almost immediately.                                                                  <span style=\"color: #000080; text-decoration-color: #000080\">│</span>\n<span style=\"color: #000080; text-decoration-color: #000080\">│</span>          <span style=\"color: #000080; text-decoration-color: #000080\">│</span>    - It helps improve the cost, performance, and accuracy of AI applications by making them          <span style=\"color: #000080; text-decoration-color: #000080\">│</span>\n<span style=\"color: #000080; text-decoration-color: #000080\">│</span>          <span style=\"color: #000080; text-decoration-color: #000080\">│</span> resilient, secure, and more accurate.                                                                <span style=\"color: #000080; text-decoration-color: #000080\">│</span>\n<span style=\"color: #000080; text-decoration-color: #000080\">│</span>          <span style=\"color: #000080; text-decoration-color: #000080\">│</span>                                                                                                      <span style=\"color: #000080; text-decoration-color: #000080\">│</span>\n<span style=\"color: #000080; text-decoration-color: #000080\">│</span>          <span style=\"color: #000080; text-decoration-color: #000080\">│</span> 3. **Additional Features**:                                                                          <span style=\"color: #000080; text-decoration-color: #000080\">│</span>\n<span style=\"color: #000080; text-decoration-color: #000080\">│</span>          <span style=\"color: #000080; text-decoration-color: #000080\">│</span>    - It provides secure key management for role-based access control and tracking.                   <span style=\"color: #000080; text-decoration-color: #000080\">│</span>\n<span style=\"color: #000080; text-decoration-color: #000080\">│</span>          <span style=\"color: #000080; text-decoration-color: #000080\">│</span>    - It offers semantic caching to serve repeat queries faster and save costs.                       <span style=\"color: #000080; text-decoration-color: #000080\">│</span>\n<span style=\"color: #000080; text-decoration-color: #000080\">│</span>          <span style=\"color: #000080; text-decoration-color: #000080\">│</span>                                                                                                      <span style=\"color: #000080; text-decoration-color: #000080\">│</span>\n<span style=\"color: #000080; text-decoration-color: #000080\">│</span>          <span style=\"color: #000080; text-decoration-color: #000080\">│</span> 4. **Usage and Applications**:                                                                       <span style=\"color: #000080; text-decoration-color: #000080\">│</span>\n<span style=\"color: #000080; text-decoration-color: #000080\">│</span>          <span style=\"color: #000080; text-decoration-color: #000080\">│</span>    - Portkey AI is trusted by developers building production-grade AI solutions in various fields    <span style=\"color: #000080; text-decoration-color: #000080\">│</span>\n<span style=\"color: #000080; text-decoration-color: #000080\">│</span>          <span style=\"color: #000080; text-decoration-color: #000080\">│</span> such as HR, code copilot, content generation, and more.                                              <span style=\"color: #000080; text-decoration-color: #000080\">│</span>\n<span style=\"color: #000080; text-decoration-color: #000080\">│</span>          <span style=\"color: #000080; text-decoration-color: #000080\">│</span>                                                                                                      <span style=\"color: #000080; text-decoration-color: #000080\">│</span>\n<span style=\"color: #000080; text-decoration-color: #000080\">│</span>          <span style=\"color: #000080; text-decoration-color: #000080\">│</span> 5. **Plans and Pricing**:                                                                            <span style=\"color: #000080; text-decoration-color: #000080\">│</span>\n<span style=\"color: #000080; text-decoration-color: #000080\">│</span>          <span style=\"color: #000080; text-decoration-color: #000080\">│</span>    - The platform offers simple pricing for monitoring, management, and compliance. There is a free  <span style=\"color: #000080; text-decoration-color: #000080\">│</span>\n<span style=\"color: #000080; text-decoration-color: #000080\">│</span>          <span style=\"color: #000080; text-decoration-color: #000080\">│</span> tier that tracks up to 10,000 requests and options to sign up for a developer license for more       <span style=\"color: #000080; text-decoration-color: #000080\">│</span>\n<span style=\"color: #000080; text-decoration-color: #000080\">│</span>          <span style=\"color: #000080; text-decoration-color: #000080\">│</span> extensive usage.                                                                                     <span style=\"color: #000080; text-decoration-color: #000080\">│</span>\n<span style=\"color: #000080; text-decoration-color: #000080\">│</span>          <span style=\"color: #000080; text-decoration-color: #000080\">│</span>                                                                                                      <span style=\"color: #000080; text-decoration-color: #000080\">│</span>\n<span style=\"color: #000080; text-decoration-color: #000080\">│</span>          <span style=\"color: #000080; text-decoration-color: #000080\">│</span> For more detailed information, you can visit their (https://portkey.ai/) or their (https             <span style=\"color: #000080; text-decoration-color: #000080\">│</span>\n<span style=\"color: #000080; text-decoration-color: #000080\">╰──────────┴──────────────────────────────────────────────────────────────────────────────────────────────────────╯</span>\n</pre>\n"
                },
                "metadata": {}
              }
            ]
          }
        },
        "4322f35d28c64bd2a99a30065b778496": {
          "model_module": "@jupyter-widgets/base",
          "model_name": "LayoutModel",
          "model_module_version": "1.2.0",
          "state": {
            "_model_module": "@jupyter-widgets/base",
            "_model_module_version": "1.2.0",
            "_model_name": "LayoutModel",
            "_view_count": null,
            "_view_module": "@jupyter-widgets/base",
            "_view_module_version": "1.2.0",
            "_view_name": "LayoutView",
            "align_content": null,
            "align_items": null,
            "align_self": null,
            "border": null,
            "bottom": null,
            "display": null,
            "flex": null,
            "flex_flow": null,
            "grid_area": null,
            "grid_auto_columns": null,
            "grid_auto_flow": null,
            "grid_auto_rows": null,
            "grid_column": null,
            "grid_gap": null,
            "grid_row": null,
            "grid_template_areas": null,
            "grid_template_columns": null,
            "grid_template_rows": null,
            "height": null,
            "justify_content": null,
            "justify_items": null,
            "left": null,
            "margin": null,
            "max_height": null,
            "max_width": null,
            "min_height": null,
            "min_width": null,
            "object_fit": null,
            "object_position": null,
            "order": null,
            "overflow": null,
            "overflow_x": null,
            "overflow_y": null,
            "padding": null,
            "right": null,
            "top": null,
            "visibility": null,
            "width": null
          }
        },
        "3e7873f852ef42d8ba7926510b42427e": {
          "model_module": "@jupyter-widgets/output",
          "model_name": "OutputModel",
          "model_module_version": "1.0.0",
          "state": {
            "_dom_classes": [],
            "_model_module": "@jupyter-widgets/output",
            "_model_module_version": "1.0.0",
            "_model_name": "OutputModel",
            "_view_count": null,
            "_view_module": "@jupyter-widgets/output",
            "_view_module_version": "1.0.0",
            "_view_name": "OutputView",
            "layout": "IPY_MODEL_0b759ad7cc1c46c6a673af654754533c",
            "msg_id": "",
            "outputs": [
              {
                "output_type": "display_data",
                "data": {
                  "text/plain": "\u001b[34m╭──────────┬──────────────────────────────────────────────────────────────────────────────────────────────────────╮\u001b[0m\n\u001b[34m│\u001b[0m\u001b[1m \u001b[0m\u001b[1mMessage \u001b[0m\u001b[1m \u001b[0m\u001b[34m│\u001b[0m\u001b[1m \u001b[0m\u001b[1mWrite a comparison between NVDA and AMD, use all tools available.                                   \u001b[0m\u001b[1m \u001b[0m\u001b[34m│\u001b[0m\n\u001b[34m├──────────┼──────────────────────────────────────────────────────────────────────────────────────────────────────┤\u001b[0m\n\u001b[34m│\u001b[0m Response \u001b[34m│\u001b[0m Running:                                                                                             \u001b[34m│\u001b[0m\n\u001b[34m│\u001b[0m (34.3s)  \u001b[34m│\u001b[0m                                                                                                      \u001b[34m│\u001b[0m\n\u001b[34m│\u001b[0m          \u001b[34m│\u001b[0m \u001b[1;33m • \u001b[0mget_company_info(symbol=NVDA)                                                                     \u001b[34m│\u001b[0m\n\u001b[34m│\u001b[0m          \u001b[34m│\u001b[0m \u001b[1;33m • \u001b[0mget_company_info(symbol=AMD)                                                                      \u001b[34m│\u001b[0m\n\u001b[34m│\u001b[0m          \u001b[34m│\u001b[0m \u001b[1;33m • \u001b[0mget_analyst_recommendations(symbol=NVDA)                                                          \u001b[34m│\u001b[0m\n\u001b[34m│\u001b[0m          \u001b[34m│\u001b[0m \u001b[1;33m • \u001b[0mget_analyst_recommendations(symbol=AMD)                                                           \u001b[34m│\u001b[0m\n\u001b[34m│\u001b[0m          \u001b[34m│\u001b[0m \u001b[1;33m • \u001b[0mget_company_news(symbol=NVDA, num_stories=3)                                                      \u001b[34m│\u001b[0m\n\u001b[34m│\u001b[0m          \u001b[34m│\u001b[0m \u001b[1;33m • \u001b[0mget_company_news(symbol=AMD, num_stories=3)                                                       \u001b[34m│\u001b[0m\n\u001b[34m│\u001b[0m          \u001b[34m│\u001b[0m \u001b[1;33m • \u001b[0mget_current_stock_price(symbol=NVDA)                                                              \u001b[34m│\u001b[0m\n\u001b[34m│\u001b[0m          \u001b[34m│\u001b[0m \u001b[1;33m • \u001b[0mget_current_stock_price(symbol=AMD)                                                               \u001b[34m│\u001b[0m\n\u001b[34m│\u001b[0m          \u001b[34m│\u001b[0m                                                                                                      \u001b[34m│\u001b[0m\n\u001b[34m│\u001b[0m          \u001b[34m│\u001b[0m                                                                                                      \u001b[34m│\u001b[0m\n\u001b[34m│\u001b[0m          \u001b[34m│\u001b[0m         \u001b[1;4mComparison Between NVIDIA Corporation (NVDA) and Advanced Micro Devices, Inc. (AMD)\u001b[0m          \u001b[34m│\u001b[0m\n\u001b[34m│\u001b[0m          \u001b[34m│\u001b[0m                                                                                                      \u001b[34m│\u001b[0m\n\u001b[34m│\u001b[0m          \u001b[34m│\u001b[0m                                           \u001b[1mCompany Overview\u001b[0m                                           \u001b[34m│\u001b[0m\n\u001b[34m│\u001b[0m          \u001b[34m│\u001b[0m                                                                                                      \u001b[34m│\u001b[0m\n\u001b[34m│\u001b[0m          \u001b[34m│\u001b[0m \u001b[1mNVIDIA Corporation (NVDA)\u001b[0m                                                                            \u001b[34m│\u001b[0m\n\u001b[34m│\u001b[0m          \u001b[34m│\u001b[0m                                                                                                      \u001b[34m│\u001b[0m\n\u001b[34m│\u001b[0m          \u001b[34m│\u001b[0m \u001b[1;33m • \u001b[0m\u001b[1mSector\u001b[0m: Technology                                                                                \u001b[34m│\u001b[0m\n\u001b[34m│\u001b[0m          \u001b[34m│\u001b[0m \u001b[1;33m • \u001b[0m\u001b[1mIndustry\u001b[0m: Semiconductors                                                                          \u001b[34m│\u001b[0m\n\u001b[34m│\u001b[0m          \u001b[34m│\u001b[0m \u001b[1;33m • \u001b[0m\u001b[1mSummary\u001b[0m: NVIDIA provides graphics and compute and networking solutions. The company's product     \u001b[34m│\u001b[0m\n\u001b[34m│\u001b[0m          \u001b[34m│\u001b[0m \u001b[1;33m   \u001b[0mofferings include GeForce GPUs for gaming, Quadro/NVIDIA RTX for enterprise graphics, automotive  \u001b[34m│\u001b[0m\n\u001b[34m│\u001b[0m          \u001b[34m│\u001b[0m \u001b[1;33m   \u001b[0mplatforms, and data center computing platforms such as DGX Cloud. NVIDIA has penetrated markets   \u001b[34m│\u001b[0m\n\u001b[34m│\u001b[0m          \u001b[34m│\u001b[0m \u001b[1;33m   \u001b[0mlike gaming, professional visualization, data centers, and automotive.                            \u001b[34m│\u001b[0m\n\u001b[34m│\u001b[0m          \u001b[34m│\u001b[0m \u001b[1;33m • \u001b[0m\u001b[1mWebsite\u001b[0m: \u001b]8;id=88839;https://www.nvidia.com\u001b\\\u001b[4;34mNVIDIA\u001b[0m\u001b]8;;\u001b\\                                                                                   \u001b[34m│\u001b[0m\n\u001b[34m│\u001b[0m          \u001b[34m│\u001b[0m                                                                                                      \u001b[34m│\u001b[0m\n\u001b[34m│\u001b[0m          \u001b[34m│\u001b[0m \u001b[1mAdvanced Micro Devices, Inc. (AMD)\u001b[0m                                                                   \u001b[34m│\u001b[0m\n\u001b[34m│\u001b[0m          \u001b[34m│\u001b[0m                                                                                                      \u001b[34m│\u001b[0m\n\u001b[34m│\u001b[0m          \u001b[34m│\u001b[0m \u001b[1;33m • \u001b[0m\u001b[1mSector\u001b[0m: Technology                                                                                \u001b[34m│\u001b[0m\n\u001b[34m│\u001b[0m          \u001b[34m│\u001b[0m \u001b[1;33m • \u001b[0m\u001b[1mIndustry\u001b[0m: Semiconductors                                                                          \u001b[34m│\u001b[0m\n\u001b[34m│\u001b[0m          \u001b[34m│\u001b[0m \u001b[1;33m • \u001b[0m\u001b[1mSummary\u001b[0m: AMD focuses on semiconductor products primarily like x86 microprocessors and GPUs. Their \u001b[34m│\u001b[0m\n\u001b[34m│\u001b[0m          \u001b[34m│\u001b[0m \u001b[1;33m   \u001b[0mproduct segments include Data Center, Client, Gaming, and Embedded segments. AMD caters to the    \u001b[34m│\u001b[0m\n\u001b[34m│\u001b[0m          \u001b[34m│\u001b[0m \u001b[1;33m   \u001b[0mcomputing, graphics, and data center markets.                                                     \u001b[34m│\u001b[0m\n\u001b[34m│\u001b[0m          \u001b[34m│\u001b[0m \u001b[1;33m • \u001b[0m\u001b[1mWebsite\u001b[0m: \u001b]8;id=308469;https://www.amd.com\u001b\\\u001b[4;34mAMD\u001b[0m\u001b]8;;\u001b\\                                                                                      \u001b[34m│\u001b[0m\n\u001b[34m│\u001b[0m          \u001b[34m│\u001b[0m                                                                                                      \u001b[34m│\u001b[0m\n\u001b[34m│\u001b[0m          \u001b[34m│\u001b[0m                                        \u001b[1mKey Financial Metrics\u001b[0m                                         \u001b[34m│\u001b[0m\n\u001b[34m│\u001b[0m          \u001b[34m│\u001b[0m                                                                                                      \u001b[34m│\u001b[0m\n\u001b[34m│\u001b[0m          \u001b[34m│\u001b[0m                                                                                                      \u001b[34m│\u001b[0m\n\u001b[34m│\u001b[0m          \u001b[34m│\u001b[0m  \u001b[1m \u001b[0m\u001b[1mMetric\u001b[0m\u001b[1m             \u001b[0m\u001b[1m \u001b[0m \u001b[1m \u001b[0m\u001b[1mNVIDIA (NVDA)\u001b[0m\u001b[1m     \u001b[0m\u001b[1m \u001b[0m \u001b[1m \u001b[0m\u001b[1mAMD (AMD)\u001b[0m\u001b[1m        \u001b[0m\u001b[1m \u001b[0m                                      \u001b[34m│\u001b[0m\n\u001b[34m│\u001b[0m          \u001b[34m│\u001b[0m  ━━━━━━━━━━━━━━━━━━━━━━━━━━━━━━━━━━━━━━━━━━━━━━━━━━━━━━━━━━━━━━                                      \u001b[34m│\u001b[0m\n\u001b[34m│\u001b[0m          \u001b[34m│\u001b[0m   \u001b[1mCurrent Stock Price\u001b[0m   $135.58 USD          $154.63 USD                                             \u001b[34m│\u001b[0m\n\u001b[34m│\u001b[0m          \u001b[34m│\u001b[0m   \u001b[1mMarket Cap\u001b[0m            $3,335 Billion USD   $250 Billion USD                                        \u001b[34m│\u001b[0m\n\u001b[34m│\u001b[0m          \u001b[34m│\u001b[0m   \u001b[1mEPS\u001b[0m                   1.71                 0.7                                                     \u001b[34m│\u001b[0m\n\u001b[34m│\u001b[0m          \u001b[34m│\u001b[0m   \u001b[1mP/E Ratio\u001b[0m             79.29                220.90                                                  \u001b[34m│\u001b[0m\n\u001b[34m│\u001b[0m          \u001b[34m│\u001b[0m   \u001b[1m52 Week Low - High\u001b[0m    39.23 - 136.33       93.12 - 227.3                                           \u001b[34m│\u001b[0m\n\u001b[34m│\u001b[0m          \u001b[34m│\u001b[0m   \u001b[1m50 Day Average\u001b[0m        99.28                159.27                                                  \u001b[34m│\u001b[0m\n\u001b[34m│\u001b[0m          \u001b[34m│\u001b[0m   \u001b[1m200 Day Average\u001b[0m       68.61                145.82                                                  \u001b[34m│\u001b[0m\n\u001b[34m│\u001b[0m          \u001b[34m│\u001b[0m   \u001b[1mTotal Cash\u001b[0m            $31.44 Billion USD   $6.03 Billion USD                                       \u001b[34m│\u001b[0m\n\u001b[34m│\u001b[0m          \u001b[34m│\u001b[0m   \u001b[1mFree Cash Flow\u001b[0m        $29.02 Billion USD   $2.39 Billion USD                                       \u001b[34m│\u001b[0m\n\u001b[34m│\u001b[0m          \u001b[34m│\u001b[0m   \u001b[1mOperating Cash Flow\u001b[0m   $40.52 Billion USD   $1.70 Billion USD                                       \u001b[34m│\u001b[0m\n\u001b[34m│\u001b[0m          \u001b[34m│\u001b[0m   \u001b[1mEBITDA\u001b[0m                $49.27 Billion USD   $3.84 Billion USD                                       \u001b[34m│\u001b[0m\n\u001b[34m│\u001b[0m          \u001b[34m│\u001b[0m   \u001b[1mRevenue Growth\u001b[0m        2.62                 0.022                                                   \u001b[34m│\u001b[0m\n\u001b[34m│\u001b[0m          \u001b[34m│\u001b[0m   \u001b[1mGross Margins\u001b[0m         75.29%               50.56%                                                  \u001b[34m│\u001b[0m\n\u001b[34m│\u001b[0m          \u001b[34m│\u001b[0m   \u001b[1mEBITDA Margins\u001b[0m        61.77%               16.83%                                                  \u001b[34m│\u001b[0m\n\u001b[34m│\u001b[0m          \u001b[34m│\u001b[0m                                                                                                      \u001b[34m│\u001b[0m\n\u001b[34m│\u001b[0m          \u001b[34m│\u001b[0m                                                                                                      \u001b[34m│\u001b[0m\n\u001b[34m│\u001b[0m          \u001b[34m│\u001b[0m                                       \u001b[1mAnalyst Recommendations\u001b[0m                                        \u001b[34m│\u001b[0m\n\u001b[34m│\u001b[0m          \u001b[34m│\u001b[0m                                                                                                      \u001b[34m│\u001b[0m\n\u001b[34m│\u001b[0m          \u001b[34m│\u001b[0m \u001b[1mNVIDIA (NVDA):\u001b[0m                                                                                       \u001b[34m│\u001b[0m\n\u001b[34m│\u001b[0m          \u001b[34m│\u001b[0m                                                                                                      \u001b[34m│\u001b[0m\n\u001b[34m│\u001b[0m          \u001b[34m│\u001b[0m \u001b[1;33m • \u001b[0mGenerally viewed positively with a significant number of analysts supporting a \"buy\"              \u001b[34m│\u001b[0m\n\u001b[34m│\u001b[0m          \u001b[34m│\u001b[0m \u001b[1;33m   \u001b[0mrecommendation.                                                                                   \u001b[34m│\u001b[0m\n\u001b[34m│\u001b[0m          \u001b[34m│\u001b[0m \u001b[1;33m • \u001b[0mRecent trend shows a strong interest with many analysts advocating for strong buy or buy          \u001b[34m│\u001b[0m\n\u001b[34m│\u001b[0m          \u001b[34m│\u001b[0m \u001b[1;33m   \u001b[0mpositions.                                                                                        \u001b[34m│\u001b[0m\n\u001b[34m│\u001b[0m          \u001b[34m│\u001b[0m                                                                                                      \u001b[34m│\u001b[0m\n\u001b[34m│\u001b[0m          \u001b[34m│\u001b[0m 🌆 \u001b]8;id=30406;https://s.yimg.com/uu/api/res/1.2/x8l2ARc6tNLEIN9_iLCDmg--~B/Zmk9ZmlsbDtoPTE0MDtweW9mZj0wO3c9MTQwO2FwcGlkPXl0YWNoeW9u/https://media.zenfs.com/en/Barrons.com/86eb9fbe2ce2216dd30aba5654b0e176\u001b\\NVDA Recommendations\u001b]8;;\u001b\\                                                                              \u001b[34m│\u001b[0m\n\u001b[34m│\u001b[0m          \u001b[34m│\u001b[0m                                                                                                      \u001b[34m│\u001b[0m\n\u001b[34m│\u001b[0m          \u001b[34m│\u001b[0m \u001b[1mAdvanced Micro Devices (AMD):\u001b[0m                                                                        \u001b[34m│\u001b[0m\n\u001b[34m│\u001b[0m          \u001b[34m│\u001b[0m                                                                                                      \u001b[34m│\u001b[0m\n\u001b[34m│\u001b[0m          \u001b[34m│\u001b[0m \u001b[1;33m • \u001b[0mMaintained a stable interest from analysts with a consistent \"buy\" recommendation.                \u001b[34m│\u001b[0m\n\u001b[34m│\u001b[0m          \u001b[34m│\u001b[0m \u001b[1;33m • \u001b[0mThe sentiment has been more volatile than NVIDIA's but still predominantly positive.              \u001b[34m│\u001b[0m\n\u001b[34m│\u001b[0m          \u001b[34m│\u001b[0m                                                                                                      \u001b[34m│\u001b[0m\n\u001b[34m│\u001b[0m          \u001b[34m│\u001b[0m 🌆 \u001b]8;id=231610;https://s.yimg.com/uu/api/res/1.2/WzpgDIldr6lZpjHlonRq9w--~B/aD02NDA7dz0xMjgwO2FwcGlkPXl0YWNoeW9u/https://media.zenfs.com/en/Barrons.com/5c861f06ec23797d8898f049f0ef050a\u001b\\AMD Recommendations\u001b]8;;\u001b\\                                                                               \u001b[34m│\u001b[0m\n\u001b[34m│\u001b[0m          \u001b[34m│\u001b[0m                                                                                                      \u001b[34m│\u001b[0m\n\u001b[34m│\u001b[0m          \u001b[34m│\u001b[0m                                             \u001b[1mRecent News\u001b[0m                                              \u001b[34m│\u001b[0m\n\u001b[34m│\u001b[0m          \u001b[34m│\u001b[0m                                                                                                      \u001b[34m│\u001b[0m\n\u001b[34m│\u001b[0m          \u001b[34m│\u001b[0m \u001b[1mNVIDIA (NVDA):\u001b[0m                                                                                       \u001b[34m│\u001b[0m\n\u001b[34m│\u001b[0m          \u001b[34m│\u001b[0m                                                                                                      \u001b[34m│\u001b[0m\n\u001b[34m│\u001b[0m          \u001b[34m│\u001b[0m \u001b[1;33m 1 \u001b[0m\u001b]8;id=552795;https://finance.yahoo.com/m/fa8358a0-0ffc-3840-97d2-ecf04dace220/dow-jones-futures%3A-nasdaq%2C.html\u001b\\\u001b[4;34mDow Jones Futures: Nasdaq, Nvidia Near Extreme Levels; Jobless Claims Fall\u001b[0m\u001b]8;;\u001b\\                        \u001b[34m│\u001b[0m\n\u001b[34m│\u001b[0m          \u001b[34m│\u001b[0m \u001b[1;33m 2 \u001b[0m\u001b]8;id=928;https://finance.yahoo.com/m/059abd4b-4e9a-3a22-bf64-bf7f55c98b9c/these-stocks-are-moving-the.html\u001b\\\u001b[4;34mThese Stocks Are Moving the Most Today: Nvidia, Dell, Super Micro, Trump Media, Accenture, \u001b[0m\u001b]8;;\u001b\\       \u001b[34m│\u001b[0m\n\u001b[34m│\u001b[0m          \u001b[34m│\u001b[0m \u001b[1;33m   \u001b[0m\u001b]8;id=928;https://finance.yahoo.com/m/059abd4b-4e9a-3a22-bf64-bf7f55c98b9c/these-stocks-are-moving-the.html\u001b\\\u001b[4;34mKroger, and More\u001b[0m\u001b]8;;\u001b\\                                                                                  \u001b[34m│\u001b[0m\n\u001b[34m│\u001b[0m          \u001b[34m│\u001b[0m \u001b[1;33m 3 \u001b[0m\u001b]8;id=997162;https://finance.yahoo.com/news/nvidia-stock-gains-push-exchange-121540202.html\u001b\\\u001b[4;34mNVIDIA Stock Gains Push Exchange-Traded Funds, Equity Futures Higher Pre-Bell Thursday\u001b[0m\u001b]8;;\u001b\\            \u001b[34m│\u001b[0m\n\u001b[34m│\u001b[0m          \u001b[34m│\u001b[0m                                                                                                      \u001b[34m│\u001b[0m\n\u001b[34m│\u001b[0m          \u001b[34m│\u001b[0m \u001b[1mAdvanced Micro Devices (AMD):\u001b[0m                                                                        \u001b[34m│\u001b[0m\n\u001b[34m│\u001b[0m          \u001b[34m│\u001b[0m                                                                                                      \u001b[34m│\u001b[0m\n\u001b[34m│\u001b[0m          \u001b[34m│\u001b[0m \u001b[1;33m 1 \u001b[0m\u001b]8;id=485858;https://finance.yahoo.com/m/25cf5418-1323-37c4-b325-a2e18b7864bf/nvidia-widens-gap-with.html\u001b\\\u001b[4;34mNvidia Widens Gap With Microsoft and Apple. The Stock Is Climbing Again.\u001b[0m\u001b]8;;\u001b\\                          \u001b[34m│\u001b[0m\n\u001b[34m│\u001b[0m          \u001b[34m│\u001b[0m \u001b[1;33m 2 \u001b[0m\u001b]8;id=560293;https://finance.yahoo.com/news/social-buzz-wallstreetbets-stocks-advance-103152215.html\u001b\\\u001b[4;34mSocial Buzz: Wallstreetbets Stocks Advance Premarket Thursday; Super Micro Computer, Nvidia to \u001b[0m\u001b]8;;\u001b\\   \u001b[34m│\u001b[0m\n\u001b[34m│\u001b[0m          \u001b[34m│\u001b[0m \u001b[1;33m   \u001b[0m\u001b]8;id=560293;https://finance.yahoo.com/news/social-buzz-wallstreetbets-stocks-advance-103152215.html\u001b\\\u001b[4;34mOpen Higher\u001b[0m\u001b]8;;\u001b\\                                                                                       \u001b[34m│\u001b[0m\n\u001b[34m│\u001b[0m          \u001b[34m│\u001b[0m \u001b[1;33m 3 \u001b[0m\u001b]8;id=829863;https://finance.yahoo.com/news/q1-rundown-qorvo-nasdaq-qrvo-101908352.html\u001b\\\u001b[4;34mQ1 Rundown: Qorvo (NASDAQ:QRVO) Vs Other Processors and Graphics Chips Stocks\u001b[0m\u001b]8;;\u001b\\                     \u001b[34m│\u001b[0m\n\u001b[34m│\u001b[0m          \u001b[34m│\u001b[0m                                                                                                      \u001b[34m│\u001b[0m\n\u001b[34m│\u001b[0m          \u001b[34m│\u001b[0m                                              \u001b[1mConclusion\u001b[0m                                              \u001b[34m│\u001b[0m\n\u001b[34m│\u001b[0m          \u001b[34m│\u001b[0m                                                                                                      \u001b[34m│\u001b[0m\n\u001b[34m│\u001b[0m          \u001b[34m│\u001b[0m Both NVIDIA and AMD are key players in the semiconductor industry with NVIDIA having a significantly \u001b[34m│\u001b[0m\n\u001b[34m│\u001b[0m          \u001b[34m│\u001b[0m higher market cap and better revenue growth rates. NVIDIA also enjoys higher gross and EBITDA        \u001b[34m│\u001b[0m\n\u001b[34m│\u001b[0m          \u001b[34m│\u001b[0m margins which may hint at more efficient operations or premium product pricing. Analysts generally   \u001b[34m│\u001b[0m\n\u001b[34m│\u001b[0m          \u001b[34m│\u001b[0m recommend buying both stocks, though NVIDIA enjoys slightly more robust support. Recent news         \u001b[34m│\u001b[0m\n\u001b[34m│\u001b[0m          \u001b[34m│\u001b[0m indicates that both companies continue to capture market interest and have                           \u001b[34m│\u001b[0m\n\u001b[34m╰──────────┴──────────────────────────────────────────────────────────────────────────────────────────────────────╯\u001b[0m\n",
                  "text/html": "<pre style=\"white-space:pre;overflow-x:auto;line-height:normal;font-family:Menlo,'DejaVu Sans Mono',consolas,'Courier New',monospace\"><span style=\"color: #000080; text-decoration-color: #000080\">╭──────────┬──────────────────────────────────────────────────────────────────────────────────────────────────────╮</span>\n<span style=\"color: #000080; text-decoration-color: #000080\">│</span><span style=\"font-weight: bold\"> Message  </span><span style=\"color: #000080; text-decoration-color: #000080\">│</span><span style=\"font-weight: bold\"> Write a comparison between NVDA and AMD, use all tools available.                                    </span><span style=\"color: #000080; text-decoration-color: #000080\">│</span>\n<span style=\"color: #000080; text-decoration-color: #000080\">├──────────┼──────────────────────────────────────────────────────────────────────────────────────────────────────┤</span>\n<span style=\"color: #000080; text-decoration-color: #000080\">│</span> Response <span style=\"color: #000080; text-decoration-color: #000080\">│</span> Running:                                                                                             <span style=\"color: #000080; text-decoration-color: #000080\">│</span>\n<span style=\"color: #000080; text-decoration-color: #000080\">│</span> (34.3s)  <span style=\"color: #000080; text-decoration-color: #000080\">│</span>                                                                                                      <span style=\"color: #000080; text-decoration-color: #000080\">│</span>\n<span style=\"color: #000080; text-decoration-color: #000080\">│</span>          <span style=\"color: #000080; text-decoration-color: #000080\">│</span> <span style=\"color: #808000; text-decoration-color: #808000; font-weight: bold\"> • </span>get_company_info(symbol=NVDA)                                                                     <span style=\"color: #000080; text-decoration-color: #000080\">│</span>\n<span style=\"color: #000080; text-decoration-color: #000080\">│</span>          <span style=\"color: #000080; text-decoration-color: #000080\">│</span> <span style=\"color: #808000; text-decoration-color: #808000; font-weight: bold\"> • </span>get_company_info(symbol=AMD)                                                                      <span style=\"color: #000080; text-decoration-color: #000080\">│</span>\n<span style=\"color: #000080; text-decoration-color: #000080\">│</span>          <span style=\"color: #000080; text-decoration-color: #000080\">│</span> <span style=\"color: #808000; text-decoration-color: #808000; font-weight: bold\"> • </span>get_analyst_recommendations(symbol=NVDA)                                                          <span style=\"color: #000080; text-decoration-color: #000080\">│</span>\n<span style=\"color: #000080; text-decoration-color: #000080\">│</span>          <span style=\"color: #000080; text-decoration-color: #000080\">│</span> <span style=\"color: #808000; text-decoration-color: #808000; font-weight: bold\"> • </span>get_analyst_recommendations(symbol=AMD)                                                           <span style=\"color: #000080; text-decoration-color: #000080\">│</span>\n<span style=\"color: #000080; text-decoration-color: #000080\">│</span>          <span style=\"color: #000080; text-decoration-color: #000080\">│</span> <span style=\"color: #808000; text-decoration-color: #808000; font-weight: bold\"> • </span>get_company_news(symbol=NVDA, num_stories=3)                                                      <span style=\"color: #000080; text-decoration-color: #000080\">│</span>\n<span style=\"color: #000080; text-decoration-color: #000080\">│</span>          <span style=\"color: #000080; text-decoration-color: #000080\">│</span> <span style=\"color: #808000; text-decoration-color: #808000; font-weight: bold\"> • </span>get_company_news(symbol=AMD, num_stories=3)                                                       <span style=\"color: #000080; text-decoration-color: #000080\">│</span>\n<span style=\"color: #000080; text-decoration-color: #000080\">│</span>          <span style=\"color: #000080; text-decoration-color: #000080\">│</span> <span style=\"color: #808000; text-decoration-color: #808000; font-weight: bold\"> • </span>get_current_stock_price(symbol=NVDA)                                                              <span style=\"color: #000080; text-decoration-color: #000080\">│</span>\n<span style=\"color: #000080; text-decoration-color: #000080\">│</span>          <span style=\"color: #000080; text-decoration-color: #000080\">│</span> <span style=\"color: #808000; text-decoration-color: #808000; font-weight: bold\"> • </span>get_current_stock_price(symbol=AMD)                                                               <span style=\"color: #000080; text-decoration-color: #000080\">│</span>\n<span style=\"color: #000080; text-decoration-color: #000080\">│</span>          <span style=\"color: #000080; text-decoration-color: #000080\">│</span>                                                                                                      <span style=\"color: #000080; text-decoration-color: #000080\">│</span>\n<span style=\"color: #000080; text-decoration-color: #000080\">│</span>          <span style=\"color: #000080; text-decoration-color: #000080\">│</span>                                                                                                      <span style=\"color: #000080; text-decoration-color: #000080\">│</span>\n<span style=\"color: #000080; text-decoration-color: #000080\">│</span>          <span style=\"color: #000080; text-decoration-color: #000080\">│</span>         <span style=\"font-weight: bold; text-decoration: underline\">Comparison Between NVIDIA Corporation (NVDA) and Advanced Micro Devices, Inc. (AMD)</span>          <span style=\"color: #000080; text-decoration-color: #000080\">│</span>\n<span style=\"color: #000080; text-decoration-color: #000080\">│</span>          <span style=\"color: #000080; text-decoration-color: #000080\">│</span>                                                                                                      <span style=\"color: #000080; text-decoration-color: #000080\">│</span>\n<span style=\"color: #000080; text-decoration-color: #000080\">│</span>          <span style=\"color: #000080; text-decoration-color: #000080\">│</span>                                           <span style=\"font-weight: bold\">Company Overview</span>                                           <span style=\"color: #000080; text-decoration-color: #000080\">│</span>\n<span style=\"color: #000080; text-decoration-color: #000080\">│</span>          <span style=\"color: #000080; text-decoration-color: #000080\">│</span>                                                                                                      <span style=\"color: #000080; text-decoration-color: #000080\">│</span>\n<span style=\"color: #000080; text-decoration-color: #000080\">│</span>          <span style=\"color: #000080; text-decoration-color: #000080\">│</span> <span style=\"font-weight: bold\">NVIDIA Corporation (NVDA)</span>                                                                            <span style=\"color: #000080; text-decoration-color: #000080\">│</span>\n<span style=\"color: #000080; text-decoration-color: #000080\">│</span>          <span style=\"color: #000080; text-decoration-color: #000080\">│</span>                                                                                                      <span style=\"color: #000080; text-decoration-color: #000080\">│</span>\n<span style=\"color: #000080; text-decoration-color: #000080\">│</span>          <span style=\"color: #000080; text-decoration-color: #000080\">│</span> <span style=\"color: #808000; text-decoration-color: #808000; font-weight: bold\"> • </span><span style=\"font-weight: bold\">Sector</span>: Technology                                                                                <span style=\"color: #000080; text-decoration-color: #000080\">│</span>\n<span style=\"color: #000080; text-decoration-color: #000080\">│</span>          <span style=\"color: #000080; text-decoration-color: #000080\">│</span> <span style=\"color: #808000; text-decoration-color: #808000; font-weight: bold\"> • </span><span style=\"font-weight: bold\">Industry</span>: Semiconductors                                                                          <span style=\"color: #000080; text-decoration-color: #000080\">│</span>\n<span style=\"color: #000080; text-decoration-color: #000080\">│</span>          <span style=\"color: #000080; text-decoration-color: #000080\">│</span> <span style=\"color: #808000; text-decoration-color: #808000; font-weight: bold\"> • </span><span style=\"font-weight: bold\">Summary</span>: NVIDIA provides graphics and compute and networking solutions. The company's product     <span style=\"color: #000080; text-decoration-color: #000080\">│</span>\n<span style=\"color: #000080; text-decoration-color: #000080\">│</span>          <span style=\"color: #000080; text-decoration-color: #000080\">│</span> <span style=\"color: #808000; text-decoration-color: #808000; font-weight: bold\">   </span>offerings include GeForce GPUs for gaming, Quadro/NVIDIA RTX for enterprise graphics, automotive  <span style=\"color: #000080; text-decoration-color: #000080\">│</span>\n<span style=\"color: #000080; text-decoration-color: #000080\">│</span>          <span style=\"color: #000080; text-decoration-color: #000080\">│</span> <span style=\"color: #808000; text-decoration-color: #808000; font-weight: bold\">   </span>platforms, and data center computing platforms such as DGX Cloud. NVIDIA has penetrated markets   <span style=\"color: #000080; text-decoration-color: #000080\">│</span>\n<span style=\"color: #000080; text-decoration-color: #000080\">│</span>          <span style=\"color: #000080; text-decoration-color: #000080\">│</span> <span style=\"color: #808000; text-decoration-color: #808000; font-weight: bold\">   </span>like gaming, professional visualization, data centers, and automotive.                            <span style=\"color: #000080; text-decoration-color: #000080\">│</span>\n<span style=\"color: #000080; text-decoration-color: #000080\">│</span>          <span style=\"color: #000080; text-decoration-color: #000080\">│</span> <span style=\"color: #808000; text-decoration-color: #808000; font-weight: bold\"> • </span><span style=\"font-weight: bold\">Website</span>: <a href=\"https://www.nvidia.com\" target=\"_blank\"><span style=\"color: #000080; text-decoration-color: #000080; text-decoration: underline\">NVIDIA</span></a>                                                                                   <span style=\"color: #000080; text-decoration-color: #000080\">│</span>\n<span style=\"color: #000080; text-decoration-color: #000080\">│</span>          <span style=\"color: #000080; text-decoration-color: #000080\">│</span>                                                                                                      <span style=\"color: #000080; text-decoration-color: #000080\">│</span>\n<span style=\"color: #000080; text-decoration-color: #000080\">│</span>          <span style=\"color: #000080; text-decoration-color: #000080\">│</span> <span style=\"font-weight: bold\">Advanced Micro Devices, Inc. (AMD)</span>                                                                   <span style=\"color: #000080; text-decoration-color: #000080\">│</span>\n<span style=\"color: #000080; text-decoration-color: #000080\">│</span>          <span style=\"color: #000080; text-decoration-color: #000080\">│</span>                                                                                                      <span style=\"color: #000080; text-decoration-color: #000080\">│</span>\n<span style=\"color: #000080; text-decoration-color: #000080\">│</span>          <span style=\"color: #000080; text-decoration-color: #000080\">│</span> <span style=\"color: #808000; text-decoration-color: #808000; font-weight: bold\"> • </span><span style=\"font-weight: bold\">Sector</span>: Technology                                                                                <span style=\"color: #000080; text-decoration-color: #000080\">│</span>\n<span style=\"color: #000080; text-decoration-color: #000080\">│</span>          <span style=\"color: #000080; text-decoration-color: #000080\">│</span> <span style=\"color: #808000; text-decoration-color: #808000; font-weight: bold\"> • </span><span style=\"font-weight: bold\">Industry</span>: Semiconductors                                                                          <span style=\"color: #000080; text-decoration-color: #000080\">│</span>\n<span style=\"color: #000080; text-decoration-color: #000080\">│</span>          <span style=\"color: #000080; text-decoration-color: #000080\">│</span> <span style=\"color: #808000; text-decoration-color: #808000; font-weight: bold\"> • </span><span style=\"font-weight: bold\">Summary</span>: AMD focuses on semiconductor products primarily like x86 microprocessors and GPUs. Their <span style=\"color: #000080; text-decoration-color: #000080\">│</span>\n<span style=\"color: #000080; text-decoration-color: #000080\">│</span>          <span style=\"color: #000080; text-decoration-color: #000080\">│</span> <span style=\"color: #808000; text-decoration-color: #808000; font-weight: bold\">   </span>product segments include Data Center, Client, Gaming, and Embedded segments. AMD caters to the    <span style=\"color: #000080; text-decoration-color: #000080\">│</span>\n<span style=\"color: #000080; text-decoration-color: #000080\">│</span>          <span style=\"color: #000080; text-decoration-color: #000080\">│</span> <span style=\"color: #808000; text-decoration-color: #808000; font-weight: bold\">   </span>computing, graphics, and data center markets.                                                     <span style=\"color: #000080; text-decoration-color: #000080\">│</span>\n<span style=\"color: #000080; text-decoration-color: #000080\">│</span>          <span style=\"color: #000080; text-decoration-color: #000080\">│</span> <span style=\"color: #808000; text-decoration-color: #808000; font-weight: bold\"> • </span><span style=\"font-weight: bold\">Website</span>: <a href=\"https://www.amd.com\" target=\"_blank\"><span style=\"color: #000080; text-decoration-color: #000080; text-decoration: underline\">AMD</span></a>                                                                                      <span style=\"color: #000080; text-decoration-color: #000080\">│</span>\n<span style=\"color: #000080; text-decoration-color: #000080\">│</span>          <span style=\"color: #000080; text-decoration-color: #000080\">│</span>                                                                                                      <span style=\"color: #000080; text-decoration-color: #000080\">│</span>\n<span style=\"color: #000080; text-decoration-color: #000080\">│</span>          <span style=\"color: #000080; text-decoration-color: #000080\">│</span>                                        <span style=\"font-weight: bold\">Key Financial Metrics</span>                                         <span style=\"color: #000080; text-decoration-color: #000080\">│</span>\n<span style=\"color: #000080; text-decoration-color: #000080\">│</span>          <span style=\"color: #000080; text-decoration-color: #000080\">│</span>                                                                                                      <span style=\"color: #000080; text-decoration-color: #000080\">│</span>\n<span style=\"color: #000080; text-decoration-color: #000080\">│</span>          <span style=\"color: #000080; text-decoration-color: #000080\">│</span>                                                                                                      <span style=\"color: #000080; text-decoration-color: #000080\">│</span>\n<span style=\"color: #000080; text-decoration-color: #000080\">│</span>          <span style=\"color: #000080; text-decoration-color: #000080\">│</span>  <span style=\"font-weight: bold\"> Metric              </span> <span style=\"font-weight: bold\"> NVIDIA (NVDA)      </span> <span style=\"font-weight: bold\"> AMD (AMD)         </span>                                      <span style=\"color: #000080; text-decoration-color: #000080\">│</span>\n<span style=\"color: #000080; text-decoration-color: #000080\">│</span>          <span style=\"color: #000080; text-decoration-color: #000080\">│</span>  ━━━━━━━━━━━━━━━━━━━━━━━━━━━━━━━━━━━━━━━━━━━━━━━━━━━━━━━━━━━━━━                                      <span style=\"color: #000080; text-decoration-color: #000080\">│</span>\n<span style=\"color: #000080; text-decoration-color: #000080\">│</span>          <span style=\"color: #000080; text-decoration-color: #000080\">│</span>   <span style=\"font-weight: bold\">Current Stock Price</span>   $135.58 USD          $154.63 USD                                             <span style=\"color: #000080; text-decoration-color: #000080\">│</span>\n<span style=\"color: #000080; text-decoration-color: #000080\">│</span>          <span style=\"color: #000080; text-decoration-color: #000080\">│</span>   <span style=\"font-weight: bold\">Market Cap</span>            $3,335 Billion USD   $250 Billion USD                                        <span style=\"color: #000080; text-decoration-color: #000080\">│</span>\n<span style=\"color: #000080; text-decoration-color: #000080\">│</span>          <span style=\"color: #000080; text-decoration-color: #000080\">│</span>   <span style=\"font-weight: bold\">EPS</span>                   1.71                 0.7                                                     <span style=\"color: #000080; text-decoration-color: #000080\">│</span>\n<span style=\"color: #000080; text-decoration-color: #000080\">│</span>          <span style=\"color: #000080; text-decoration-color: #000080\">│</span>   <span style=\"font-weight: bold\">P/E Ratio</span>             79.29                220.90                                                  <span style=\"color: #000080; text-decoration-color: #000080\">│</span>\n<span style=\"color: #000080; text-decoration-color: #000080\">│</span>          <span style=\"color: #000080; text-decoration-color: #000080\">│</span>   <span style=\"font-weight: bold\">52 Week Low - High</span>    39.23 - 136.33       93.12 - 227.3                                           <span style=\"color: #000080; text-decoration-color: #000080\">│</span>\n<span style=\"color: #000080; text-decoration-color: #000080\">│</span>          <span style=\"color: #000080; text-decoration-color: #000080\">│</span>   <span style=\"font-weight: bold\">50 Day Average</span>        99.28                159.27                                                  <span style=\"color: #000080; text-decoration-color: #000080\">│</span>\n<span style=\"color: #000080; text-decoration-color: #000080\">│</span>          <span style=\"color: #000080; text-decoration-color: #000080\">│</span>   <span style=\"font-weight: bold\">200 Day Average</span>       68.61                145.82                                                  <span style=\"color: #000080; text-decoration-color: #000080\">│</span>\n<span style=\"color: #000080; text-decoration-color: #000080\">│</span>          <span style=\"color: #000080; text-decoration-color: #000080\">│</span>   <span style=\"font-weight: bold\">Total Cash</span>            $31.44 Billion USD   $6.03 Billion USD                                       <span style=\"color: #000080; text-decoration-color: #000080\">│</span>\n<span style=\"color: #000080; text-decoration-color: #000080\">│</span>          <span style=\"color: #000080; text-decoration-color: #000080\">│</span>   <span style=\"font-weight: bold\">Free Cash Flow</span>        $29.02 Billion USD   $2.39 Billion USD                                       <span style=\"color: #000080; text-decoration-color: #000080\">│</span>\n<span style=\"color: #000080; text-decoration-color: #000080\">│</span>          <span style=\"color: #000080; text-decoration-color: #000080\">│</span>   <span style=\"font-weight: bold\">Operating Cash Flow</span>   $40.52 Billion USD   $1.70 Billion USD                                       <span style=\"color: #000080; text-decoration-color: #000080\">│</span>\n<span style=\"color: #000080; text-decoration-color: #000080\">│</span>          <span style=\"color: #000080; text-decoration-color: #000080\">│</span>   <span style=\"font-weight: bold\">EBITDA</span>                $49.27 Billion USD   $3.84 Billion USD                                       <span style=\"color: #000080; text-decoration-color: #000080\">│</span>\n<span style=\"color: #000080; text-decoration-color: #000080\">│</span>          <span style=\"color: #000080; text-decoration-color: #000080\">│</span>   <span style=\"font-weight: bold\">Revenue Growth</span>        2.62                 0.022                                                   <span style=\"color: #000080; text-decoration-color: #000080\">│</span>\n<span style=\"color: #000080; text-decoration-color: #000080\">│</span>          <span style=\"color: #000080; text-decoration-color: #000080\">│</span>   <span style=\"font-weight: bold\">Gross Margins</span>         75.29%               50.56%                                                  <span style=\"color: #000080; text-decoration-color: #000080\">│</span>\n<span style=\"color: #000080; text-decoration-color: #000080\">│</span>          <span style=\"color: #000080; text-decoration-color: #000080\">│</span>   <span style=\"font-weight: bold\">EBITDA Margins</span>        61.77%               16.83%                                                  <span style=\"color: #000080; text-decoration-color: #000080\">│</span>\n<span style=\"color: #000080; text-decoration-color: #000080\">│</span>          <span style=\"color: #000080; text-decoration-color: #000080\">│</span>                                                                                                      <span style=\"color: #000080; text-decoration-color: #000080\">│</span>\n<span style=\"color: #000080; text-decoration-color: #000080\">│</span>          <span style=\"color: #000080; text-decoration-color: #000080\">│</span>                                                                                                      <span style=\"color: #000080; text-decoration-color: #000080\">│</span>\n<span style=\"color: #000080; text-decoration-color: #000080\">│</span>          <span style=\"color: #000080; text-decoration-color: #000080\">│</span>                                       <span style=\"font-weight: bold\">Analyst Recommendations</span>                                        <span style=\"color: #000080; text-decoration-color: #000080\">│</span>\n<span style=\"color: #000080; text-decoration-color: #000080\">│</span>          <span style=\"color: #000080; text-decoration-color: #000080\">│</span>                                                                                                      <span style=\"color: #000080; text-decoration-color: #000080\">│</span>\n<span style=\"color: #000080; text-decoration-color: #000080\">│</span>          <span style=\"color: #000080; text-decoration-color: #000080\">│</span> <span style=\"font-weight: bold\">NVIDIA (NVDA):</span>                                                                                       <span style=\"color: #000080; text-decoration-color: #000080\">│</span>\n<span style=\"color: #000080; text-decoration-color: #000080\">│</span>          <span style=\"color: #000080; text-decoration-color: #000080\">│</span>                                                                                                      <span style=\"color: #000080; text-decoration-color: #000080\">│</span>\n<span style=\"color: #000080; text-decoration-color: #000080\">│</span>          <span style=\"color: #000080; text-decoration-color: #000080\">│</span> <span style=\"color: #808000; text-decoration-color: #808000; font-weight: bold\"> • </span>Generally viewed positively with a significant number of analysts supporting a \"buy\"              <span style=\"color: #000080; text-decoration-color: #000080\">│</span>\n<span style=\"color: #000080; text-decoration-color: #000080\">│</span>          <span style=\"color: #000080; text-decoration-color: #000080\">│</span> <span style=\"color: #808000; text-decoration-color: #808000; font-weight: bold\">   </span>recommendation.                                                                                   <span style=\"color: #000080; text-decoration-color: #000080\">│</span>\n<span style=\"color: #000080; text-decoration-color: #000080\">│</span>          <span style=\"color: #000080; text-decoration-color: #000080\">│</span> <span style=\"color: #808000; text-decoration-color: #808000; font-weight: bold\"> • </span>Recent trend shows a strong interest with many analysts advocating for strong buy or buy          <span style=\"color: #000080; text-decoration-color: #000080\">│</span>\n<span style=\"color: #000080; text-decoration-color: #000080\">│</span>          <span style=\"color: #000080; text-decoration-color: #000080\">│</span> <span style=\"color: #808000; text-decoration-color: #808000; font-weight: bold\">   </span>positions.                                                                                        <span style=\"color: #000080; text-decoration-color: #000080\">│</span>\n<span style=\"color: #000080; text-decoration-color: #000080\">│</span>          <span style=\"color: #000080; text-decoration-color: #000080\">│</span>                                                                                                      <span style=\"color: #000080; text-decoration-color: #000080\">│</span>\n<span style=\"color: #000080; text-decoration-color: #000080\">│</span>          <span style=\"color: #000080; text-decoration-color: #000080\">│</span> 🌆 <a href=\"https://s.yimg.com/uu/api/res/1.2/x8l2ARc6tNLEIN9_iLCDmg--~B/Zmk9ZmlsbDtoPTE0MDtweW9mZj0wO3c9MTQwO2FwcGlkPXl0YWNoeW9u/https://media.zenfs.com/en/Barrons.com/86eb9fbe2ce2216dd30aba5654b0e176\" target=\"_blank\">NVDA Recommendations</a>                                                                              <span style=\"color: #000080; text-decoration-color: #000080\">│</span>\n<span style=\"color: #000080; text-decoration-color: #000080\">│</span>          <span style=\"color: #000080; text-decoration-color: #000080\">│</span>                                                                                                      <span style=\"color: #000080; text-decoration-color: #000080\">│</span>\n<span style=\"color: #000080; text-decoration-color: #000080\">│</span>          <span style=\"color: #000080; text-decoration-color: #000080\">│</span> <span style=\"font-weight: bold\">Advanced Micro Devices (AMD):</span>                                                                        <span style=\"color: #000080; text-decoration-color: #000080\">│</span>\n<span style=\"color: #000080; text-decoration-color: #000080\">│</span>          <span style=\"color: #000080; text-decoration-color: #000080\">│</span>                                                                                                      <span style=\"color: #000080; text-decoration-color: #000080\">│</span>\n<span style=\"color: #000080; text-decoration-color: #000080\">│</span>          <span style=\"color: #000080; text-decoration-color: #000080\">│</span> <span style=\"color: #808000; text-decoration-color: #808000; font-weight: bold\"> • </span>Maintained a stable interest from analysts with a consistent \"buy\" recommendation.                <span style=\"color: #000080; text-decoration-color: #000080\">│</span>\n<span style=\"color: #000080; text-decoration-color: #000080\">│</span>          <span style=\"color: #000080; text-decoration-color: #000080\">│</span> <span style=\"color: #808000; text-decoration-color: #808000; font-weight: bold\"> • </span>The sentiment has been more volatile than NVIDIA's but still predominantly positive.              <span style=\"color: #000080; text-decoration-color: #000080\">│</span>\n<span style=\"color: #000080; text-decoration-color: #000080\">│</span>          <span style=\"color: #000080; text-decoration-color: #000080\">│</span>                                                                                                      <span style=\"color: #000080; text-decoration-color: #000080\">│</span>\n<span style=\"color: #000080; text-decoration-color: #000080\">│</span>          <span style=\"color: #000080; text-decoration-color: #000080\">│</span> 🌆 <a href=\"https://s.yimg.com/uu/api/res/1.2/WzpgDIldr6lZpjHlonRq9w--~B/aD02NDA7dz0xMjgwO2FwcGlkPXl0YWNoeW9u/https://media.zenfs.com/en/Barrons.com/5c861f06ec23797d8898f049f0ef050a\" target=\"_blank\">AMD Recommendations</a>                                                                               <span style=\"color: #000080; text-decoration-color: #000080\">│</span>\n<span style=\"color: #000080; text-decoration-color: #000080\">│</span>          <span style=\"color: #000080; text-decoration-color: #000080\">│</span>                                                                                                      <span style=\"color: #000080; text-decoration-color: #000080\">│</span>\n<span style=\"color: #000080; text-decoration-color: #000080\">│</span>          <span style=\"color: #000080; text-decoration-color: #000080\">│</span>                                             <span style=\"font-weight: bold\">Recent News</span>                                              <span style=\"color: #000080; text-decoration-color: #000080\">│</span>\n<span style=\"color: #000080; text-decoration-color: #000080\">│</span>          <span style=\"color: #000080; text-decoration-color: #000080\">│</span>                                                                                                      <span style=\"color: #000080; text-decoration-color: #000080\">│</span>\n<span style=\"color: #000080; text-decoration-color: #000080\">│</span>          <span style=\"color: #000080; text-decoration-color: #000080\">│</span> <span style=\"font-weight: bold\">NVIDIA (NVDA):</span>                                                                                       <span style=\"color: #000080; text-decoration-color: #000080\">│</span>\n<span style=\"color: #000080; text-decoration-color: #000080\">│</span>          <span style=\"color: #000080; text-decoration-color: #000080\">│</span>                                                                                                      <span style=\"color: #000080; text-decoration-color: #000080\">│</span>\n<span style=\"color: #000080; text-decoration-color: #000080\">│</span>          <span style=\"color: #000080; text-decoration-color: #000080\">│</span> <span style=\"color: #808000; text-decoration-color: #808000; font-weight: bold\"> 1 </span><a href=\"https://finance.yahoo.com/m/fa8358a0-0ffc-3840-97d2-ecf04dace220/dow-jones-futures%3A-nasdaq%2C.html\" target=\"_blank\"><span style=\"color: #000080; text-decoration-color: #000080; text-decoration: underline\">Dow Jones Futures: Nasdaq, Nvidia Near Extreme Levels; Jobless Claims Fall</span></a>                        <span style=\"color: #000080; text-decoration-color: #000080\">│</span>\n<span style=\"color: #000080; text-decoration-color: #000080\">│</span>          <span style=\"color: #000080; text-decoration-color: #000080\">│</span> <span style=\"color: #808000; text-decoration-color: #808000; font-weight: bold\"> 2 </span><a href=\"https://finance.yahoo.com/m/059abd4b-4e9a-3a22-bf64-bf7f55c98b9c/these-stocks-are-moving-the.html\" target=\"_blank\"><span style=\"color: #000080; text-decoration-color: #000080; text-decoration: underline\">These Stocks Are Moving the Most Today: Nvidia, Dell, Super Micro, Trump Media, Accenture, </span></a>       <span style=\"color: #000080; text-decoration-color: #000080\">│</span>\n<span style=\"color: #000080; text-decoration-color: #000080\">│</span>          <span style=\"color: #000080; text-decoration-color: #000080\">│</span> <span style=\"color: #808000; text-decoration-color: #808000; font-weight: bold\">   </span><a href=\"https://finance.yahoo.com/m/059abd4b-4e9a-3a22-bf64-bf7f55c98b9c/these-stocks-are-moving-the.html\" target=\"_blank\"><span style=\"color: #000080; text-decoration-color: #000080; text-decoration: underline\">Kroger, and More</span></a>                                                                                  <span style=\"color: #000080; text-decoration-color: #000080\">│</span>\n<span style=\"color: #000080; text-decoration-color: #000080\">│</span>          <span style=\"color: #000080; text-decoration-color: #000080\">│</span> <span style=\"color: #808000; text-decoration-color: #808000; font-weight: bold\"> 3 </span><a href=\"https://finance.yahoo.com/news/nvidia-stock-gains-push-exchange-121540202.html\" target=\"_blank\"><span style=\"color: #000080; text-decoration-color: #000080; text-decoration: underline\">NVIDIA Stock Gains Push Exchange-Traded Funds, Equity Futures Higher Pre-Bell Thursday</span></a>            <span style=\"color: #000080; text-decoration-color: #000080\">│</span>\n<span style=\"color: #000080; text-decoration-color: #000080\">│</span>          <span style=\"color: #000080; text-decoration-color: #000080\">│</span>                                                                                                      <span style=\"color: #000080; text-decoration-color: #000080\">│</span>\n<span style=\"color: #000080; text-decoration-color: #000080\">│</span>          <span style=\"color: #000080; text-decoration-color: #000080\">│</span> <span style=\"font-weight: bold\">Advanced Micro Devices (AMD):</span>                                                                        <span style=\"color: #000080; text-decoration-color: #000080\">│</span>\n<span style=\"color: #000080; text-decoration-color: #000080\">│</span>          <span style=\"color: #000080; text-decoration-color: #000080\">│</span>                                                                                                      <span style=\"color: #000080; text-decoration-color: #000080\">│</span>\n<span style=\"color: #000080; text-decoration-color: #000080\">│</span>          <span style=\"color: #000080; text-decoration-color: #000080\">│</span> <span style=\"color: #808000; text-decoration-color: #808000; font-weight: bold\"> 1 </span><a href=\"https://finance.yahoo.com/m/25cf5418-1323-37c4-b325-a2e18b7864bf/nvidia-widens-gap-with.html\" target=\"_blank\"><span style=\"color: #000080; text-decoration-color: #000080; text-decoration: underline\">Nvidia Widens Gap With Microsoft and Apple. The Stock Is Climbing Again.</span></a>                          <span style=\"color: #000080; text-decoration-color: #000080\">│</span>\n<span style=\"color: #000080; text-decoration-color: #000080\">│</span>          <span style=\"color: #000080; text-decoration-color: #000080\">│</span> <span style=\"color: #808000; text-decoration-color: #808000; font-weight: bold\"> 2 </span><a href=\"https://finance.yahoo.com/news/social-buzz-wallstreetbets-stocks-advance-103152215.html\" target=\"_blank\"><span style=\"color: #000080; text-decoration-color: #000080; text-decoration: underline\">Social Buzz: Wallstreetbets Stocks Advance Premarket Thursday; Super Micro Computer, Nvidia to </span></a>   <span style=\"color: #000080; text-decoration-color: #000080\">│</span>\n<span style=\"color: #000080; text-decoration-color: #000080\">│</span>          <span style=\"color: #000080; text-decoration-color: #000080\">│</span> <span style=\"color: #808000; text-decoration-color: #808000; font-weight: bold\">   </span><a href=\"https://finance.yahoo.com/news/social-buzz-wallstreetbets-stocks-advance-103152215.html\" target=\"_blank\"><span style=\"color: #000080; text-decoration-color: #000080; text-decoration: underline\">Open Higher</span></a>                                                                                       <span style=\"color: #000080; text-decoration-color: #000080\">│</span>\n<span style=\"color: #000080; text-decoration-color: #000080\">│</span>          <span style=\"color: #000080; text-decoration-color: #000080\">│</span> <span style=\"color: #808000; text-decoration-color: #808000; font-weight: bold\"> 3 </span><a href=\"https://finance.yahoo.com/news/q1-rundown-qorvo-nasdaq-qrvo-101908352.html\" target=\"_blank\"><span style=\"color: #000080; text-decoration-color: #000080; text-decoration: underline\">Q1 Rundown: Qorvo (NASDAQ:QRVO) Vs Other Processors and Graphics Chips Stocks</span></a>                     <span style=\"color: #000080; text-decoration-color: #000080\">│</span>\n<span style=\"color: #000080; text-decoration-color: #000080\">│</span>          <span style=\"color: #000080; text-decoration-color: #000080\">│</span>                                                                                                      <span style=\"color: #000080; text-decoration-color: #000080\">│</span>\n<span style=\"color: #000080; text-decoration-color: #000080\">│</span>          <span style=\"color: #000080; text-decoration-color: #000080\">│</span>                                              <span style=\"font-weight: bold\">Conclusion</span>                                              <span style=\"color: #000080; text-decoration-color: #000080\">│</span>\n<span style=\"color: #000080; text-decoration-color: #000080\">│</span>          <span style=\"color: #000080; text-decoration-color: #000080\">│</span>                                                                                                      <span style=\"color: #000080; text-decoration-color: #000080\">│</span>\n<span style=\"color: #000080; text-decoration-color: #000080\">│</span>          <span style=\"color: #000080; text-decoration-color: #000080\">│</span> Both NVIDIA and AMD are key players in the semiconductor industry with NVIDIA having a significantly <span style=\"color: #000080; text-decoration-color: #000080\">│</span>\n<span style=\"color: #000080; text-decoration-color: #000080\">│</span>          <span style=\"color: #000080; text-decoration-color: #000080\">│</span> higher market cap and better revenue growth rates. NVIDIA also enjoys higher gross and EBITDA        <span style=\"color: #000080; text-decoration-color: #000080\">│</span>\n<span style=\"color: #000080; text-decoration-color: #000080\">│</span>          <span style=\"color: #000080; text-decoration-color: #000080\">│</span> margins which may hint at more efficient operations or premium product pricing. Analysts generally   <span style=\"color: #000080; text-decoration-color: #000080\">│</span>\n<span style=\"color: #000080; text-decoration-color: #000080\">│</span>          <span style=\"color: #000080; text-decoration-color: #000080\">│</span> recommend buying both stocks, though NVIDIA enjoys slightly more robust support. Recent news         <span style=\"color: #000080; text-decoration-color: #000080\">│</span>\n<span style=\"color: #000080; text-decoration-color: #000080\">│</span>          <span style=\"color: #000080; text-decoration-color: #000080\">│</span> indicates that both companies continue to capture market interest and have                           <span style=\"color: #000080; text-decoration-color: #000080\">│</span>\n<span style=\"color: #000080; text-decoration-color: #000080\">╰──────────┴──────────────────────────────────────────────────────────────────────────────────────────────────────╯</span>\n</pre>\n"
                },
                "metadata": {}
              }
            ]
          }
        },
        "0b759ad7cc1c46c6a673af654754533c": {
          "model_module": "@jupyter-widgets/base",
          "model_name": "LayoutModel",
          "model_module_version": "1.2.0",
          "state": {
            "_model_module": "@jupyter-widgets/base",
            "_model_module_version": "1.2.0",
            "_model_name": "LayoutModel",
            "_view_count": null,
            "_view_module": "@jupyter-widgets/base",
            "_view_module_version": "1.2.0",
            "_view_name": "LayoutView",
            "align_content": null,
            "align_items": null,
            "align_self": null,
            "border": null,
            "bottom": null,
            "display": null,
            "flex": null,
            "flex_flow": null,
            "grid_area": null,
            "grid_auto_columns": null,
            "grid_auto_flow": null,
            "grid_auto_rows": null,
            "grid_column": null,
            "grid_gap": null,
            "grid_row": null,
            "grid_template_areas": null,
            "grid_template_columns": null,
            "grid_template_rows": null,
            "height": null,
            "justify_content": null,
            "justify_items": null,
            "left": null,
            "margin": null,
            "max_height": null,
            "max_width": null,
            "min_height": null,
            "min_width": null,
            "object_fit": null,
            "object_position": null,
            "order": null,
            "overflow": null,
            "overflow_x": null,
            "overflow_y": null,
            "padding": null,
            "right": null,
            "top": null,
            "visibility": null,
            "width": null
          }
        }
      }
    }
  },
  "cells": [
    {
      "cell_type": "markdown",
      "source": [
        "[![Open In Colab](https://colab.research.google.com/assets/colab-badge.svg)](https://colab.research.google.com/drive/1KDR0x03Ho3Vl3QthC3o1ozCpkuhYjv7p?usp=sharing)\n"
      ],
      "metadata": {
        "id": "3UWmQX3KG7HA"
      }
    },
    {
      "cell_type": "markdown",
      "source": [
        "# Monitoring Phidata with Portkey\n",
        "\n",
        "\n",
        "\n",
        "\n",
        "## What is phidata?\n",
        "\n",
        "Phidata is a framework for building AI Assistants with memory, knowledge and tools.\n",
        "\n",
        "\n",
        "##Use phidata to turn any LLM into an AI Assistant (aka Agent) that can:\n",
        "\n",
        "* Search the web using DuckDuckGo, Google etc.\n",
        "\n",
        "* Pull data from APIs like yfinance, polygon etc.\n",
        "\n",
        "* Analyze data using SQL, DuckDb, etc.\n",
        "\n",
        "* Conduct research and generate reports.\n",
        "\n",
        "* Answer questions from PDFs, APIs, etc.\n",
        "\n",
        "* Summarize articles, videos, etc.\n",
        "\n",
        "* Perform tasks like sending emails, querying databases, etc.\n",
        "\n",
        "\n",
        "\n",
        "\n",
        "#Why phidata\n",
        "\n",
        "Problem: We need to turn general-purpose LLMs into specialized assistants tailored to our use-case.\n",
        "\n",
        "* Solution: Extend LLMs with memory, knowledge and tools:\n",
        "\n",
        "* Memory: Stores chat history in a database and enables LLMs to have long-term conversations.\n",
        "\n",
        "* Knowledge: Stores information in a vector database and provides LLMs with business context.\n",
        "\n",
        "* Tools: Enable LLMs to take actions like pulling data from an API, sending emails or querying a database.\n",
        "\n",
        "* Memory & knowledge make LLMs smarter while tools make them autonomous.\n",
        "\n",
        "\n",
        "\n",
        "**Portkey** is an open source [**AI Gateway**](https://github.com/Portkey-AI/gateway) that helps you manage access to 250+ LLMs through a unified API while providing visibility into\n",
        "\n",
        "✅ cost  \n",
        "✅ performance  \n",
        "✅ accuracy metrics\n",
        "\n",
        "This notebook demonstrates how you can bring visibility and flexbility to Phidata using Portkey's OPENAI Gateway.\n"
      ],
      "metadata": {
        "id": "wlshOcHsZ3ff"
      }
    },
    {
      "cell_type": "markdown",
      "source": [
        "#Installing Dependencies"
      ],
      "metadata": {
        "id": "vLyClXvwbUVs"
      }
    },
    {
      "cell_type": "code",
      "execution_count": null,
      "metadata": {
        "id": "ljIFNOOQA00x"
      },
      "outputs": [],
      "source": [
        "!pip install phidata portkey-ai duckduckgo-search yfinance\n"
      ]
    },
    {
      "cell_type": "markdown",
      "source": [
        "#Importing Libraries"
      ],
      "metadata": {
        "id": "xVjqdzYXbe9L"
      }
    },
    {
      "cell_type": "code",
      "source": [
        "import os\n",
        "from google.colab import userdata\n",
        "from phi.assistant import Assistant\n",
        "from phi.llm.openai import OpenAIChat\n",
        "from phi.tools.yfinance import YFinanceTools\n",
        "from openai import OpenAI\n",
        "from portkey_ai import PORTKEY_GATEWAY_URL, createHeaders\n",
        "from phi.assistant.duckdb import DuckDbAssistant\n",
        "from phi.tools.duckduckgo import DuckDuckGo\n",
        "\n",
        "\n",
        "\n",
        "os.environ[\"OPENAI_API_KEY\"] = userdata.get('OPENAI_API_KEY')"
      ],
      "metadata": {
        "id": "DOOJHmDMA9Ke"
      },
      "execution_count": null,
      "outputs": []
    },
    {
      "cell_type": "markdown",
      "source": [
        "# Creating A Basic Assistant Using Phidata"
      ],
      "metadata": {
        "id": "CDAwVvuZeA_p"
      }
    },
    {
      "cell_type": "code",
      "source": [
        "# Initialize the OpenAIChat model\n",
        "llm = OpenAIChat(\n",
        "    base_url=PORTKEY_GATEWAY_URL,\n",
        "    default_headers=createHeaders(\n",
        "        provider=\"openai\",\n",
        "        api_key=userdata.get('PORTKEY_API_KEY')  # Replace with your Portkey API key\n",
        "    )\n",
        ")\n",
        "\n",
        "\n",
        "internet_agent = Assistant(\n",
        "     llm=llm,\n",
        "    tools=[DuckDuckGo()], show_tool_calls=True)\n",
        "\n",
        "# # Use the assistant to print the response to the query \"What is today?\"\n",
        "internet_agent.print_response(\"what is portkey Ai\")"
      ],
      "metadata": {
        "colab": {
          "base_uri": "https://localhost:8080/",
          "height": 646,
          "referenced_widgets": [
            "66c57421cf8e4ce992bb8466757de59a",
            "4322f35d28c64bd2a99a30065b778496"
          ]
        },
        "id": "aQYgJvdGdeYV",
        "outputId": "2f3b383b-c6b7-4f3a-a87d-08937d361b2a"
      },
      "execution_count": null,
      "outputs": [
        {
          "output_type": "display_data",
          "data": {
            "text/plain": [
              "Output()"
            ],
            "application/vnd.jupyter.widget-view+json": {
              "version_major": 2,
              "version_minor": 0,
              "model_id": "66c57421cf8e4ce992bb8466757de59a"
            }
          },
          "metadata": {}
        },
        {
          "output_type": "display_data",
          "data": {
            "text/plain": [],
            "text/html": [
              "<pre style=\"white-space:pre;overflow-x:auto;line-height:normal;font-family:Menlo,'DejaVu Sans Mono',consolas,'Courier New',monospace\"></pre>\n"
            ]
          },
          "metadata": {}
        }
      ]
    },
    {
      "cell_type": "markdown",
      "source": [
        "# Assistant that can query financial data\n"
      ],
      "metadata": {
        "id": "xJ0qDC-AfNk9"
      }
    },
    {
      "cell_type": "code",
      "source": [
        "# Initialize the OpenAIChat model\n",
        "llm = OpenAIChat(\n",
        "    base_url=PORTKEY_GATEWAY_URL,\n",
        "    default_headers=createHeaders(\n",
        "        provider=\"openai\",\n",
        "        api_key=userdata.get('PORTKEY_API_KEY')  # Replace with your Portkey API key\n",
        "    )\n",
        ")\n",
        "\n",
        "\n",
        "Stock_agent = Assistant(\n",
        "    llm=llm,\n",
        "    tools=[YFinanceTools(stock_price=True, analyst_recommendations=True, company_info=True, company_news=True)],\n",
        "    show_tool_calls=True,\n",
        "    markdown=True,\n",
        "\n",
        "\n",
        "     )\n",
        "\n",
        "# # Use the assistant to print the response to the query \"What is today?\"\n",
        "Stock_agent.print_response(\"Write a comparison between NVDA and AMD, use all tools available.\")"
      ],
      "metadata": {
        "colab": {
          "base_uri": "https://localhost:8080/",
          "height": 1000,
          "referenced_widgets": [
            "3e7873f852ef42d8ba7926510b42427e",
            "0b759ad7cc1c46c6a673af654754533c"
          ]
        },
        "id": "cQmX2ClTewKg",
        "outputId": "44198dc1-077c-4155-cf34-c622406ab581"
      },
      "execution_count": null,
      "outputs": [
        {
          "output_type": "display_data",
          "data": {
            "text/plain": [
              "Output()"
            ],
            "application/vnd.jupyter.widget-view+json": {
              "version_major": 2,
              "version_minor": 0,
              "model_id": "3e7873f852ef42d8ba7926510b42427e"
            }
          },
          "metadata": {}
        },
        {
          "output_type": "display_data",
          "data": {
            "text/plain": [],
            "text/html": [
              "<pre style=\"white-space:pre;overflow-x:auto;line-height:normal;font-family:Menlo,'DejaVu Sans Mono',consolas,'Courier New',monospace\"></pre>\n"
            ]
          },
          "metadata": {}
        }
      ]
    },
    {
      "cell_type": "markdown",
      "source": [
        "# Observability with Portkey"
      ],
      "metadata": {
        "id": "FhKAyG2dxLi_"
      }
    },
    {
      "cell_type": "markdown",
      "source": [
        "By routing requests through Portkey you can track a number of metrics like - tokens used, latency, cost, etc.\n",
        "\n",
        "Here's a screenshot of the dashboard you get with Portkey!\n",
        "\n",
        "\n",
        "![portkey_view.JPG](https://portkey.ai/blog/content/images/2024/07/Screenshot-2024-07-01-at-12.38.28-PM.png)"
      ],
      "metadata": {
        "id": "moXLgWBIxPyz"
      }
    },
    {
      "cell_type": "code",
      "source": [],
      "metadata": {
        "id": "0Jr0meL7xPCs"
      },
      "execution_count": null,
      "outputs": []
    }
  ]
}
